{
  "nbformat": 4,
  "nbformat_minor": 0,
  "metadata": {
    "colab": {
      "provenance": []
    },
    "kernelspec": {
      "name": "python3",
      "display_name": "Python 3"
    },
    "language_info": {
      "name": "python"
    }
  },
  "cells": [
    {
      "cell_type": "code",
      "execution_count": 1,
      "metadata": {
        "id": "Azmhp0Hd26Co"
      },
      "outputs": [],
      "source": [
        "import numpy as np\n"
      ]
    },
    {
      "cell_type": "code",
      "source": [
        "def f(x):\n",
        "  return x**2 - 5\n",
        "def g(x):\n",
        "  return x*2"
      ],
      "metadata": {
        "id": "PcvtQXrh3MDz"
      },
      "execution_count": 9,
      "outputs": []
    },
    {
      "cell_type": "code",
      "source": [
        "\n",
        "def newton_raphson(x0,tolerance):\n",
        "  x1 = x0 - f(x0)/g(x0)\n",
        "\n",
        "  if(np.abs(f(x1)) < tolerance):\n",
        "    print(\"root: \",x1)\n",
        "    return\n",
        "\n",
        "  newton_raphson(x1,tolerance)"
      ],
      "metadata": {
        "id": "tasnJ6mU3f_p"
      },
      "execution_count": 12,
      "outputs": []
    },
    {
      "cell_type": "code",
      "source": [
        "newton_raphson(12,0.1)"
      ],
      "metadata": {
        "colab": {
          "base_uri": "https://localhost:8080/"
        },
        "id": "Y_Sasq9T4i-O",
        "outputId": "9b426571-efed-4602-b213-f0cc178fa284"
      },
      "execution_count": 14,
      "outputs": [
        {
          "output_type": "stream",
          "name": "stdout",
          "text": [
            "root:  2.246815603997753\n"
          ]
        }
      ]
    }
  ]
}
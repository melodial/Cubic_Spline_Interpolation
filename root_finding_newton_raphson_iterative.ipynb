{
  "nbformat": 4,
  "nbformat_minor": 0,
  "metadata": {
    "colab": {
      "provenance": []
    },
    "kernelspec": {
      "name": "python3",
      "display_name": "Python 3"
    },
    "language_info": {
      "name": "python"
    }
  },
  "cells": [
    {
      "cell_type": "code",
      "execution_count": 1,
      "metadata": {
        "id": "G7X39u4aEf_G"
      },
      "outputs": [],
      "source": [
        "import numpy as np"
      ]
    },
    {
      "cell_type": "code",
      "source": [
        "\n",
        "def f(x):\n",
        "  return x**6 + 2*x**2 - 3\n",
        "def g(x):\n",
        "  return 6*x**5 + 4*x"
      ],
      "metadata": {
        "id": "i631e98UEjbL"
      },
      "execution_count": 28,
      "outputs": []
    },
    {
      "cell_type": "code",
      "source": [
        "def newton_raphson(x0, tolerance, max_iter):\n",
        "    x = x0\n",
        "    for count in range(1, max_iter + 1):\n",
        "        x1 = x - f(x) / g(x)\n",
        "        print(f\"Iteration {count}: x = {x1}\")\n",
        "        if np.abs(f(x1)) < tolerance:\n",
        "            print(f\"The root of equation is : {x1} in {count} iterations\")\n",
        "            return x1, count\n",
        "        x = x1\n",
        "    print(\"Did not converge within the given number of iterations\")\n",
        "    return None, count"
      ],
      "metadata": {
        "id": "OmDRWvv8HhUn"
      },
      "execution_count": 27,
      "outputs": []
    },
    {
      "cell_type": "code",
      "source": [
        "newton_raphson(4,0.01,15)"
      ],
      "metadata": {
        "colab": {
          "base_uri": "https://localhost:8080/"
        },
        "id": "zjdZde4OF838",
        "outputId": "739d5684-40f0-429e-cea3-02902084e4bd"
      },
      "execution_count": 29,
      "outputs": [
        {
          "output_type": "stream",
          "name": "stdout",
          "text": [
            "Iteration 1: x = 3.330357142857143\n",
            "Iteration 2: x = 2.7705278067251076\n",
            "Iteration 3: x = 2.3014692834655897\n",
            "Iteration 4: x = 1.9076486911265778\n",
            "Iteration 5: x = 1.5780738506315775\n",
            "Iteration 6: x = 1.3101344278134677\n",
            "Iteration 7: x = 1.1168277838634215\n",
            "Iteration 8: x = 1.0204619280744585\n",
            "Iteration 9: x = 1.0006965918207418\n",
            "The root of equation is : 1.0006965918207418 in 9 iterations\n"
          ]
        },
        {
          "output_type": "execute_result",
          "data": {
            "text/plain": [
              "(1.0006965918207418, 9)"
            ]
          },
          "metadata": {},
          "execution_count": 29
        }
      ]
    }
  ]
}
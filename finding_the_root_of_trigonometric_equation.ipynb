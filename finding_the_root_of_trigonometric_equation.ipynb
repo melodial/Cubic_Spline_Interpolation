{
  "nbformat": 4,
  "nbformat_minor": 0,
  "metadata": {
    "colab": {
      "provenance": []
    },
    "kernelspec": {
      "name": "python3",
      "display_name": "Python 3"
    },
    "language_info": {
      "name": "python"
    }
  },
  "cells": [
    {
      "cell_type": "code",
      "source": [
        "import numpy as np\n",
        "\n",
        "def f(x):\n",
        "  return np.sin(x) - 0.5\n",
        "def g(x):\n",
        "  return np.cos(x)\n",
        "\n",
        "def newton_raphson(x0,tolerance,max_iter):\n",
        "  x = x0\n",
        "  for count in range(1,max_iter + 1):\n",
        "    x1 = x - f(x)/g(x)\n",
        "    print(f\"iteration{count} = {x1}\")\n",
        "    if np.abs(f(x1)) < tolerance:\n",
        "      print(f\"the root is {x1}\")\n",
        "      return x1, count\n",
        "    else:\n",
        "      x = x1\n",
        "  print(\"not found\")\n",
        "  return None,count"
      ],
      "metadata": {
        "id": "jFcXDsIpKA5y"
      },
      "execution_count": 32,
      "outputs": []
    },
    {
      "cell_type": "code",
      "source": [
        "root,newton_raphson(2.0,1e-6,1000)\n",
        "if root is not None:\n",
        "  print(f\"the root found:{root}\")\n",
        "else:\n",
        "  print(\"not found\")\n",
        "\n",
        "print(f\"f({root}) = {f(root)}\")"
      ],
      "metadata": {
        "colab": {
          "base_uri": "https://localhost:8080/"
        },
        "id": "_yfwCipBOAY8",
        "outputId": "2711735a-9076-4ddc-dcd8-4ac4e0bcc3e9"
      },
      "execution_count": 37,
      "outputs": [
        {
          "output_type": "stream",
          "name": "stdout",
          "text": [
            "iteration1 = 2.9835408824003284\n",
            "iteration2 = 2.636611242105187\n",
            "iteration3 = 2.6180907506253495\n",
            "iteration4 = 2.617993880700056\n",
            "the root is 2.617993880700056\n",
            "the root found:1.0\n",
            "f(1.0) = 0.3414709848078965\n"
          ]
        }
      ]
    },
    {
      "cell_type": "code",
      "source": [],
      "metadata": {
        "id": "LbB6_z7FPhri"
      },
      "execution_count": null,
      "outputs": []
    }
  ]
}
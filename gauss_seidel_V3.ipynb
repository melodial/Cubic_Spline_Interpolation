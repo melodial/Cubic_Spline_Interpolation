{
  "nbformat": 4,
  "nbformat_minor": 0,
  "metadata": {
    "colab": {
      "provenance": []
    },
    "kernelspec": {
      "name": "python3",
      "display_name": "Python 3"
    },
    "language_info": {
      "name": "python"
    }
  },
  "cells": [
    {
      "cell_type": "code",
      "execution_count": 16,
      "metadata": {
        "id": "A8lvKQzCOPYr"
      },
      "outputs": [],
      "source": [
        "import numpy as np"
      ]
    },
    {
      "cell_type": "code",
      "source": [
        "x1 = [\n",
        "    [\n",
        "      [4, 2, -1],\n",
        "      [1, -5, 2],\n",
        "      [2, -1, -4]\n",
        "    ],\n",
        "    [\n",
        "      [3, 4, 5],\n",
        "      [-3, 7, -4],\n",
        "      [1, -4, -2]\n",
        "    ],\n",
        "    [\n",
        "      [9, -2, 3, 2],\n",
        "      [2, 8, -2, 3],\n",
        "      [-3, 2, 11, -4],\n",
        "      [-2, 3, 2, 10]\n",
        "    ]\n",
        "]\n",
        "y1 = [\n",
        "    [41, -10, 1],\n",
        "    [34, -32, 62],\n",
        "    [55, -14, 12, -21]\n",
        "]"
      ],
      "metadata": {
        "id": "5SDrvg0tSSs5"
      },
      "execution_count": 35,
      "outputs": []
    },
    {
      "cell_type": "code",
      "source": [
        "def cekDiagonallyDominant(x):\n",
        "  #ubah dulu x1 menjadi array\n",
        "  x = np.array(x)\n",
        "  #mengambil nilai diagonal + absolut (x)\n",
        "  diag = np.diag(np.abs(x))\n",
        "  #cari jumlah dari setiap baris selain nilai diagonal +absolut(X)\n",
        "  off_diag = np.sum(np.abs(x),axis = 1) - diag\n",
        "  #axis =1 penjumlahan terhadap row\n",
        "  if np.all(diag > off_diag):\n",
        "    return True\n",
        "  else:\n",
        "    return False"
      ],
      "metadata": {
        "id": "yEwgXUKTSa_y"
      },
      "execution_count": 36,
      "outputs": []
    },
    {
      "cell_type": "code",
      "source": [
        "def gauss_seidel(x,y,epsilon=0.022,t=15):\n",
        "  #panggil function cekdiagonallyDominant\n",
        "  if not cekDiagonallyDominant(x):\n",
        "    print(\"not diagonally dominant\")\n",
        "    return\n",
        "  #mengubah x1 dan y1 menjadi array\n",
        "  x = np.array(x)\n",
        "  y = np.array(y)\n",
        "# mengambil nilai diagonal\n",
        "  diag = np.diag(np.abs(x))\n",
        "  #menegasikan array x\n",
        "  x = -x\n",
        "  #fill value diagonal array x menjadi 0\n",
        "  np.fill_diagonal(x,0)\n",
        "  #inisialisai value\n",
        "  mat_old = np.zeros(x[0].shape)\n",
        "  #melakukan iterasi\n",
        "  for i in range(t):\n",
        "    mat_new = np.array(mat_old)\n",
        "    for j, row in enumerate(x):\n",
        "      mat_new[j] = (y[j] + np.dot(row,mat_new)) / diag[j]\n",
        "    print(f\"iterasi ke-{i}\")\n",
        "    print(mat_new)\n",
        "\n",
        "    dx = np.sqrt(np.dot(mat_new - mat_old,mat_new - mat_old))\n",
        "\n",
        "    if(dx < epsilon):\n",
        "      print(\"converged\")\n",
        "      return\n",
        "    mat_old = mat_new\n",
        "\n",
        "  print(\"not converged\")\n",
        "  return\n"
      ],
      "metadata": {
        "id": "Ns8rLZa5TV8V"
      },
      "execution_count": 38,
      "outputs": []
    },
    {
      "cell_type": "code",
      "source": [
        "#implementasi function gauss_seidel ke lebih dari satu matrix\n",
        "for i, (X,Y) in enumerate(zip(x1,y1)):\n",
        "  print(f\"persamaan ke-{i + 1}\")\n",
        "  gauss_seidel(X,Y)\n",
        "  print(\"======================================\")"
      ],
      "metadata": {
        "id": "84HL0ok3VbtH",
        "outputId": "2e734298-c5e6-4ca3-82c5-48c1c0f7db39",
        "colab": {
          "base_uri": "https://localhost:8080/"
        }
      },
      "execution_count": 41,
      "outputs": [
        {
          "output_type": "stream",
          "name": "stdout",
          "text": [
            "persamaan ke-1\n",
            "iterasi ke-0\n",
            "[10.25   -4.05   -5.8875]\n",
            "iterasi ke-1\n",
            "[10.803125   -1.805625   -5.60296875]\n",
            "iterasi ke-2\n",
            "[ 9.75207031 -1.70922656 -5.0533418 ]\n",
            "iterasi ke-3\n",
            "[ 9.84127783 -1.94691885 -5.15736863]\n",
            "iterasi ke-4\n",
            "[ 9.93411727 -1.923876   -5.19802763]\n",
            "iterasi ke-5\n",
            "[ 9.91243109 -1.90327516 -5.18203434]\n",
            "iterasi ke-6\n",
            "[ 9.906129   -1.90841206 -5.18016752]\n",
            "converged\n",
            "======================================\n",
            "persamaan ke-2\n",
            "not diagonally dominant\n",
            "======================================\n",
            "persamaan ke-3\n",
            "iterasi ke-0\n",
            "[ 6.11111111 -3.27777778  3.35353535 -0.56515152]\n",
            "iterasi ke-1\n",
            "[ 4.39046016 -1.79729938  2.40957938 -1.16463403]\n",
            "iterasi ke-2\n",
            "[ 5.16732568 -2.00269881  2.44080351 -0.95388592]\n",
            "iterasi ke-3\n",
            "[ 5.06444041 -2.04820201  2.49765287 -0.97218189]\n",
            "iterasi ke-4\n",
            "[ 5.03944457 -2.02087972  2.47921505 -0.98169018]\n",
            "iterasi ke-5\n",
            "[ 5.05377509 -2.02550619  2.48050699 -0.97769452]\n",
            "converged\n",
            "======================================\n"
          ]
        }
      ]
    }
  ]
}
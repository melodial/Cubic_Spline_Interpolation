{
  "nbformat": 4,
  "nbformat_minor": 0,
  "metadata": {
    "colab": {
      "provenance": []
    },
    "kernelspec": {
      "name": "python3",
      "display_name": "Python 3"
    },
    "language_info": {
      "name": "python"
    }
  },
  "cells": [
    {
      "cell_type": "code",
      "execution_count": 1,
      "metadata": {
        "id": "v_QSjw9dgzU_"
      },
      "outputs": [],
      "source": [
        "import numpy as np\n"
      ]
    },
    {
      "cell_type": "code",
      "source": [
        "Xs = [\n",
        "\n",
        "      [4, 2, -1],\n",
        "      [1, -5, 2],\n",
        "      [2, -1, -4]\n",
        "\n",
        "]\n",
        "Ys = [\n",
        "    41, -10, 1\n",
        "]\n"
      ],
      "metadata": {
        "id": "p7mAtRoYhSM1"
      },
      "execution_count": 31,
      "outputs": []
    },
    {
      "cell_type": "code",
      "source": [
        "X2 = [\n",
        "\n",
        "     [3, 4, 5],\n",
        "      [-3, 7, -4],\n",
        "      [1, -4, -2]\n",
        "\n",
        "\n",
        "]\n",
        "Y2 = [\n",
        "   34, -32, 62\n",
        "]\n"
      ],
      "metadata": {
        "id": "cOsNKL66mhkX"
      },
      "execution_count": 38,
      "outputs": []
    },
    {
      "cell_type": "code",
      "source": [
        "X3 = [\n",
        "      [9, -2, 3, 2],\n",
        "      [2, 8, -2, 3],\n",
        "      [-3, 2, 11, -4],\n",
        "      [-2, 3, 2, 10]\n",
        "]\n",
        "Y3 = [\n",
        "   55, -14, 12, -21\n",
        "]"
      ],
      "metadata": {
        "id": "v5DMZIVqmh8j"
      },
      "execution_count": 41,
      "outputs": []
    },
    {
      "cell_type": "code",
      "source": [
        "def gauss_seidel(Xs,Ys,epsilon = 0.022, t =15):\n",
        "  Xs = np.array(Xs)\n",
        "  Ys = np.array(Ys)\n",
        "\n",
        "  diag = np.diag(np.abs(Xs))\n",
        "\n",
        "  np.fill_diagonal(Xs,0)\n",
        "  sum = np.sum(np.abs(Xs),axis =1)\n",
        "\n",
        "  if np.all(diag > sum):\n",
        "    print(\"diagonally dominant\")\n",
        "\n",
        "    sum = -Xs\n",
        "    mat_old = np.zeros(Xs[0].shape)\n",
        "    for i in range(t):\n",
        "      mat_new = np.array(mat_old)\n",
        "      for j,row in enumerate(Xs):\n",
        "       mat_new[j] = (Ys[j] + np.dot(row,mat_new))/diag[j]\n",
        "      print(\"iteration-\",i,mat_new)\n",
        "\n",
        "\n",
        "      dx = np.sqrt(np.dot(mat_new - mat_old , mat_new - mat_old))\n",
        "      if(dx < epsilon):\n",
        "        return  print(\"convergen\")\n",
        "\n",
        "      mat_old = mat_new\n",
        "  else:\n",
        "    print(\"not diagonally dominant\")"
      ],
      "metadata": {
        "id": "R4RUX2fphTLr"
      },
      "execution_count": 52,
      "outputs": []
    },
    {
      "cell_type": "code",
      "source": [
        "gauss_seidel(Xs,Ys)"
      ],
      "metadata": {
        "colab": {
          "base_uri": "https://localhost:8080/"
        },
        "id": "hPupah4eiue1",
        "outputId": "13a0c263-d098-48d4-9d00-6f08ede369d4"
      },
      "execution_count": 53,
      "outputs": [
        {
          "output_type": "stream",
          "name": "stdout",
          "text": [
            "diagonally dominant\n",
            "iteration- 0 [10.25    0.05    5.3625]\n",
            "iteration- 1 [8.934375   1.931875   4.23421875]\n",
            "iteration- 2 [10.15738281  1.72516406  4.89740039]\n",
            "iteration- 3 [9.88823193 1.93660654 4.70996433]\n",
            "iteration- 4 [10.04081219  1.89214817  4.79736905]\n",
            "iteration- 5 [9.99673182 1.91829399 4.76879241]\n",
            "iteration- 6 [10.01694889  1.91090674  4.78074776]\n",
            "iteration- 7 [10.01026643  1.91435239  4.77654512]\n",
            "convergen\n"
          ]
        }
      ]
    },
    {
      "cell_type": "code",
      "source": [
        "gauss_seidel(X2,Y2)"
      ],
      "metadata": {
        "id": "jcooKPBxm859",
        "outputId": "252b54be-4588-4600-84ef-2374698d81f6",
        "colab": {
          "base_uri": "https://localhost:8080/"
        }
      },
      "execution_count": 50,
      "outputs": [
        {
          "output_type": "stream",
          "name": "stdout",
          "text": [
            "not diagonally dominant\n"
          ]
        }
      ]
    },
    {
      "cell_type": "code",
      "source": [
        "gauss_seidel(X3,Y3)"
      ],
      "metadata": {
        "id": "q6-LeTjam9nv",
        "outputId": "3ee8fe6b-d6d1-47fa-f335-4b36615cbbbd",
        "colab": {
          "base_uri": "https://localhost:8080/"
        }
      },
      "execution_count": 55,
      "outputs": [
        {
          "output_type": "stream",
          "name": "stdout",
          "text": [
            "diagonally dominant\n",
            "iteration- 0 [ 6.11111111 -0.22222222 -0.61616162 -3.51212121]\n",
            "iteration- 1 [ 5.17463524 -1.61934624  0.66235333 -3.48826025]\n",
            "iteration- 2 [ 5.91658133 -1.7445406   0.42856508 -3.72096543]\n",
            "iteration- 3 [ 5.81476062 -1.79881315  0.53108669 -3.69637873]\n",
            "iteration- 4 [ 5.86645877 -1.802299    0.50741278 -3.7124989 ]\n",
            "iteration- 5 [ 5.85575984 -1.80510032  0.51568322 -3.70954542]\n",
            "convergen\n"
          ]
        }
      ]
    }
  ]
}
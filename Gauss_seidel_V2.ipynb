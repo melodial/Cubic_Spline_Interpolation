{
  "nbformat": 4,
  "nbformat_minor": 0,
  "metadata": {
    "colab": {
      "provenance": []
    },
    "kernelspec": {
      "name": "python3",
      "display_name": "Python 3"
    },
    "language_info": {
      "name": "python"
    }
  },
  "cells": [
    {
      "cell_type": "code",
      "execution_count": 1,
      "metadata": {
        "id": "6SDtlkcFElZ2"
      },
      "outputs": [],
      "source": [
        "import numpy as np\n"
      ]
    },
    {
      "cell_type": "code",
      "source": [
        "x1 =[\n",
        "      [4, 2, -1],\n",
        "      [1, -5, 2],\n",
        "      [2, -1, -4]\n",
        "    ]\n",
        "y1 = [41, -10, 1]\n"
      ],
      "metadata": {
        "id": "mAmIRX4_FKhS"
      },
      "execution_count": 2,
      "outputs": []
    },
    {
      "cell_type": "code",
      "source": [
        "x2 = [\n",
        "      [3, 4, 5],\n",
        "      [-3, 7, -4],\n",
        "      [1, -4, -2]\n",
        "    ]\n",
        "y2 = [34, -32, 62]"
      ],
      "metadata": {
        "id": "SZMn2GT9FV6q"
      },
      "execution_count": 3,
      "outputs": []
    },
    {
      "cell_type": "code",
      "source": [
        "x3 =[\n",
        "      [9, -2, 3, 2],\n",
        "      [2, 8, -2, 3],\n",
        "      [-3, 2, 11, -4],\n",
        "      [-2, 3, 2, 10]\n",
        "    ]\n",
        "y3 =  [55, -14, 12, -21]"
      ],
      "metadata": {
        "id": "OhzJVEkFF9cV"
      },
      "execution_count": 5,
      "outputs": []
    },
    {
      "cell_type": "code",
      "source": [
        "def gauss_seidel(x,y,epsilon =0.022 , t =15):\n",
        "  x = np.array(x)\n",
        "  y = np.array(y)\n",
        "\n",
        "  diag = np.diag(np.abs(x))\n",
        "\n",
        "  np.fill_diagonal(x,0)\n",
        "  sum = np.sum(np.abs(x), axis =1)\n",
        "\n",
        "  if np.all(diag > sum):\n",
        "    print(\"diagonally dominant\")\n",
        "\n",
        "    x = -x\n",
        "    mat_old = np.zeros(x[0].shape)\n",
        "\n",
        "    for i in range(t):\n",
        "      mat_new = np.array(mat_old)\n",
        "      for j,row in enumerate(x):\n",
        "        mat_new[j] = (y[j] + np.dot(row,mat_new)) / diag[j]\n",
        "      print(\"iteration-\",i,mat_new)\n",
        "      dx = np.sqrt(np.dot(mat_new - mat_old, mat_new - mat_old))\n",
        "      if(dx < epsilon):\n",
        "        return True\n",
        "      mat_old = mat_new\n",
        "\n",
        "\n",
        "  else:\n",
        "   print(\"not diagonally dominant\")\n",
        "\n",
        "\n",
        "\n",
        "\n"
      ],
      "metadata": {
        "id": "QaVwZ6aIGQUv"
      },
      "execution_count": 13,
      "outputs": []
    },
    {
      "cell_type": "code",
      "source": [
        "gauss_seidel(x1,y1)"
      ],
      "metadata": {
        "colab": {
          "base_uri": "https://localhost:8080/"
        },
        "id": "ROpHOtqEH7gf",
        "outputId": "f641b154-5791-4eb2-de93-90d94c228852"
      },
      "execution_count": 14,
      "outputs": [
        {
          "output_type": "stream",
          "name": "stdout",
          "text": [
            "diagonally dominant\n",
            "iteration- 0 [10.25   -4.05   -5.8875]\n",
            "iteration- 1 [10.803125   -1.805625   -5.60296875]\n",
            "iteration- 2 [ 9.75207031 -1.70922656 -5.0533418 ]\n",
            "iteration- 3 [ 9.84127783 -1.94691885 -5.15736863]\n",
            "iteration- 4 [ 9.93411727 -1.923876   -5.19802763]\n",
            "iteration- 5 [ 9.91243109 -1.90327516 -5.18203434]\n",
            "iteration- 6 [ 9.906129   -1.90841206 -5.18016752]\n"
          ]
        },
        {
          "output_type": "execute_result",
          "data": {
            "text/plain": [
              "True"
            ]
          },
          "metadata": {},
          "execution_count": 14
        }
      ]
    },
    {
      "cell_type": "code",
      "source": [
        "gauss_seidel(x2,y2)"
      ],
      "metadata": {
        "colab": {
          "base_uri": "https://localhost:8080/"
        },
        "id": "1Z2aa4llIASP",
        "outputId": "793a3b97-f366-4d7c-d74c-11929f1f0082"
      },
      "execution_count": 15,
      "outputs": [
        {
          "output_type": "stream",
          "name": "stdout",
          "text": [
            "not diagonally dominant\n"
          ]
        }
      ]
    },
    {
      "cell_type": "code",
      "source": [
        "gauss_seidel(x3,y3)"
      ],
      "metadata": {
        "colab": {
          "base_uri": "https://localhost:8080/"
        },
        "id": "UAUPAUF5KLLn",
        "outputId": "7773991d-a605-4bdf-a6d1-5bca5d5afb29"
      },
      "execution_count": 16,
      "outputs": [
        {
          "output_type": "stream",
          "name": "stdout",
          "text": [
            "diagonally dominant\n",
            "iteration- 0 [ 6.11111111 -3.27777778  3.35353535 -0.56515152]\n",
            "iteration- 1 [ 4.39046016 -1.79729938  2.40957938 -1.16463403]\n",
            "iteration- 2 [ 5.16732568 -2.00269881  2.44080351 -0.95388592]\n",
            "iteration- 3 [ 5.06444041 -2.04820201  2.49765287 -0.97218189]\n",
            "iteration- 4 [ 5.03944457 -2.02087972  2.47921505 -0.98169018]\n",
            "iteration- 5 [ 5.05377509 -2.02550619  2.48050699 -0.97769452]\n"
          ]
        },
        {
          "output_type": "execute_result",
          "data": {
            "text/plain": [
              "True"
            ]
          },
          "metadata": {},
          "execution_count": 16
        }
      ]
    }
  ]
}
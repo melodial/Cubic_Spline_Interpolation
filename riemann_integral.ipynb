{
  "nbformat": 4,
  "nbformat_minor": 0,
  "metadata": {
    "colab": {
      "provenance": []
    },
    "kernelspec": {
      "name": "python3",
      "display_name": "Python 3"
    },
    "language_info": {
      "name": "python"
    }
  },
  "cells": [
    {
      "cell_type": "code",
      "execution_count": 30,
      "metadata": {
        "id": "0GSgnRzposN_"
      },
      "outputs": [],
      "source": [
        "import numpy as np"
      ]
    },
    {
      "cell_type": "code",
      "source": [
        "def f(x):\n",
        "  return 4*x**4 + 2*x**3 - 6*x\n",
        "\n",
        "titik_awal = -3\n",
        "titik_akhir = 3\n",
        "jumlah_titik = 30\n",
        "\n",
        "x = np.linspace(titik_awal,titik_akhir,jumlah_titik)\n",
        "y = f(x)\n",
        "\n",
        "lebar_kotak = (titik_akhir - titik_awal) / (jumlah_titik - 1)\n",
        "\n",
        "left_riemann = lebar_kotak * sum(y[0:jumlah_titik-1])\n",
        "right_riemann = lebar_kotak * sum(y[1:] )\n",
        "\n",
        "x_mid = (x[0:jumlah_titik - 1] + x[1:])/2\n",
        "y_mid = f(x_mid)\n",
        "mid_point = lebar_kotak * sum(y_mid)\n",
        "\n",
        "#trapezoid = lebar_kotak/2 *(y[0] + y[jumlah_titik-1] + 2 * sum(y[1:jumlah_titik-1]))"
      ],
      "metadata": {
        "id": "OmuSyc3Sy7Es"
      },
      "execution_count": 51,
      "outputs": []
    },
    {
      "cell_type": "code",
      "source": [
        "print(f\"left riemann {left_riemann}\")\n",
        "print(f\"right riemann {right_riemann}\")\n",
        "print(f\"mid point {mid_point}\")\n",
        "#print(f\"trapezoid {trapezoid}\")"
      ],
      "metadata": {
        "colab": {
          "base_uri": "https://localhost:8080/"
        },
        "id": "BmpAPRg_zvmn",
        "outputId": "bf04777d-8783-46d9-8a25-d6ea09a9f096"
      },
      "execution_count": 52,
      "outputs": [
        {
          "output_type": "stream",
          "name": "stdout",
          "text": [
            "left riemann 384.4323034267851\n",
            "right riemann 399.328855150923\n",
            "mid point 387.26026006636687\n"
          ]
        }
      ]
    },
    {
      "cell_type": "code",
      "source": [],
      "metadata": {
        "id": "XP1TZYUJ30k2"
      },
      "execution_count": null,
      "outputs": []
    }
  ]
}